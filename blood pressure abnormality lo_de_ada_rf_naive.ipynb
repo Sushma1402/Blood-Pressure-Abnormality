{
 "cells": [
  {
   "cell_type": "markdown",
   "id": "ccc2973b",
   "metadata": {},
   "source": [
    "# Blood Pressure Abnormality "
   ]
  },
  {
   "cell_type": "markdown",
   "id": "88a5c16b",
   "metadata": {},
   "source": [
    "## Problem Statement : "
   ]
  },
  {
   "cell_type": "markdown",
   "id": "277354c2",
   "metadata": {},
   "source": [
    "### To Perform \"Logistic Regression\" on patient with abnormal blood-pressure. Including 'Decision tree' , 'Random Forest' , 'Ada Boosting' and 'Naive Bayes' algorithm."
   ]
  },
  {
   "cell_type": "code",
   "execution_count": 48,
   "id": "6d9b67fd",
   "metadata": {},
   "outputs": [],
   "source": [
    "# Import the Library\n",
    "import pandas as pd\n",
    "import matplotlib.pylab as plt\n",
    "import seaborn as sns"
   ]
  },
  {
   "cell_type": "code",
   "execution_count": 4,
   "id": "b39320d4",
   "metadata": {},
   "outputs": [],
   "source": [
    "# Read the file \n",
    "bpa = pd.read_csv(r\"D:\\sushma\\data sets\\Patient_with_abnormal_bloodpressure.csv\")"
   ]
  },
  {
   "cell_type": "code",
   "execution_count": 5,
   "id": "0e499867",
   "metadata": {},
   "outputs": [
    {
     "data": {
      "text/html": [
       "<div>\n",
       "<style scoped>\n",
       "    .dataframe tbody tr th:only-of-type {\n",
       "        vertical-align: middle;\n",
       "    }\n",
       "\n",
       "    .dataframe tbody tr th {\n",
       "        vertical-align: top;\n",
       "    }\n",
       "\n",
       "    .dataframe thead th {\n",
       "        text-align: right;\n",
       "    }\n",
       "</style>\n",
       "<table border=\"1\" class=\"dataframe\">\n",
       "  <thead>\n",
       "    <tr style=\"text-align: right;\">\n",
       "      <th></th>\n",
       "      <th>Patient_Number</th>\n",
       "      <th>Blood_Pressure_Abnormality</th>\n",
       "      <th>Level_of_Hemoglobin</th>\n",
       "      <th>Genetic_Pedigree_Coefficient</th>\n",
       "      <th>Age</th>\n",
       "      <th>BMI</th>\n",
       "      <th>Sex</th>\n",
       "      <th>Pregnancy</th>\n",
       "      <th>Smoking</th>\n",
       "      <th>Physical_activity</th>\n",
       "      <th>salt_content_in_the_diet</th>\n",
       "      <th>alcohol_consumption_per_day</th>\n",
       "      <th>Level_of_Stress</th>\n",
       "      <th>Chronic_kidney_disease</th>\n",
       "      <th>Adrenal_and_thyroid_disorders</th>\n",
       "    </tr>\n",
       "  </thead>\n",
       "  <tbody>\n",
       "    <tr>\n",
       "      <th>0</th>\n",
       "      <td>1</td>\n",
       "      <td>1</td>\n",
       "      <td>11.28</td>\n",
       "      <td>0.90</td>\n",
       "      <td>34</td>\n",
       "      <td>23</td>\n",
       "      <td>1</td>\n",
       "      <td>1.0</td>\n",
       "      <td>0</td>\n",
       "      <td>45961</td>\n",
       "      <td>48071</td>\n",
       "      <td>NaN</td>\n",
       "      <td>2</td>\n",
       "      <td>1</td>\n",
       "      <td>1</td>\n",
       "    </tr>\n",
       "    <tr>\n",
       "      <th>1</th>\n",
       "      <td>2</td>\n",
       "      <td>0</td>\n",
       "      <td>9.75</td>\n",
       "      <td>0.23</td>\n",
       "      <td>54</td>\n",
       "      <td>33</td>\n",
       "      <td>1</td>\n",
       "      <td>NaN</td>\n",
       "      <td>0</td>\n",
       "      <td>26106</td>\n",
       "      <td>25333</td>\n",
       "      <td>205.0</td>\n",
       "      <td>3</td>\n",
       "      <td>0</td>\n",
       "      <td>0</td>\n",
       "    </tr>\n",
       "    <tr>\n",
       "      <th>2</th>\n",
       "      <td>3</td>\n",
       "      <td>1</td>\n",
       "      <td>10.79</td>\n",
       "      <td>0.91</td>\n",
       "      <td>70</td>\n",
       "      <td>49</td>\n",
       "      <td>0</td>\n",
       "      <td>NaN</td>\n",
       "      <td>0</td>\n",
       "      <td>9995</td>\n",
       "      <td>29465</td>\n",
       "      <td>67.0</td>\n",
       "      <td>2</td>\n",
       "      <td>1</td>\n",
       "      <td>0</td>\n",
       "    </tr>\n",
       "    <tr>\n",
       "      <th>3</th>\n",
       "      <td>4</td>\n",
       "      <td>0</td>\n",
       "      <td>11.00</td>\n",
       "      <td>0.43</td>\n",
       "      <td>71</td>\n",
       "      <td>50</td>\n",
       "      <td>0</td>\n",
       "      <td>NaN</td>\n",
       "      <td>0</td>\n",
       "      <td>10635</td>\n",
       "      <td>7439</td>\n",
       "      <td>242.0</td>\n",
       "      <td>1</td>\n",
       "      <td>1</td>\n",
       "      <td>0</td>\n",
       "    </tr>\n",
       "    <tr>\n",
       "      <th>4</th>\n",
       "      <td>5</td>\n",
       "      <td>1</td>\n",
       "      <td>14.17</td>\n",
       "      <td>0.83</td>\n",
       "      <td>52</td>\n",
       "      <td>19</td>\n",
       "      <td>0</td>\n",
       "      <td>NaN</td>\n",
       "      <td>0</td>\n",
       "      <td>15619</td>\n",
       "      <td>49644</td>\n",
       "      <td>397.0</td>\n",
       "      <td>2</td>\n",
       "      <td>0</td>\n",
       "      <td>0</td>\n",
       "    </tr>\n",
       "  </tbody>\n",
       "</table>\n",
       "</div>"
      ],
      "text/plain": [
       "   Patient_Number  Blood_Pressure_Abnormality  Level_of_Hemoglobin  \\\n",
       "0               1                           1                11.28   \n",
       "1               2                           0                 9.75   \n",
       "2               3                           1                10.79   \n",
       "3               4                           0                11.00   \n",
       "4               5                           1                14.17   \n",
       "\n",
       "   Genetic_Pedigree_Coefficient  Age  BMI  Sex  Pregnancy  Smoking  \\\n",
       "0                          0.90   34   23    1        1.0        0   \n",
       "1                          0.23   54   33    1        NaN        0   \n",
       "2                          0.91   70   49    0        NaN        0   \n",
       "3                          0.43   71   50    0        NaN        0   \n",
       "4                          0.83   52   19    0        NaN        0   \n",
       "\n",
       "   Physical_activity  salt_content_in_the_diet  alcohol_consumption_per_day  \\\n",
       "0              45961                     48071                          NaN   \n",
       "1              26106                     25333                        205.0   \n",
       "2               9995                     29465                         67.0   \n",
       "3              10635                      7439                        242.0   \n",
       "4              15619                     49644                        397.0   \n",
       "\n",
       "   Level_of_Stress  Chronic_kidney_disease  Adrenal_and_thyroid_disorders  \n",
       "0                2                       1                              1  \n",
       "1                3                       0                              0  \n",
       "2                2                       1                              0  \n",
       "3                1                       1                              0  \n",
       "4                2                       0                              0  "
      ]
     },
     "execution_count": 5,
     "metadata": {},
     "output_type": "execute_result"
    }
   ],
   "source": [
    "# Check the head file \n",
    "bpa.head()"
   ]
  },
  {
   "cell_type": "code",
   "execution_count": 7,
   "id": "4091a1b6",
   "metadata": {},
   "outputs": [
    {
     "data": {
      "text/plain": [
       "(2000, 15)"
      ]
     },
     "execution_count": 7,
     "metadata": {},
     "output_type": "execute_result"
    }
   ],
   "source": [
    "# Check the shape of given data set \n",
    "\n",
    "bpa.shape"
   ]
  },
  {
   "cell_type": "code",
   "execution_count": 8,
   "id": "3066620a",
   "metadata": {},
   "outputs": [
    {
     "data": {
      "text/plain": [
       "Patient_Number                      0\n",
       "Blood_Pressure_Abnormality          0\n",
       "Level_of_Hemoglobin                 0\n",
       "Genetic_Pedigree_Coefficient       92\n",
       "Age                                 0\n",
       "BMI                                 0\n",
       "Sex                                 0\n",
       "Pregnancy                        1558\n",
       "Smoking                             0\n",
       "Physical_activity                   0\n",
       "salt_content_in_the_diet            0\n",
       "alcohol_consumption_per_day       242\n",
       "Level_of_Stress                     0\n",
       "Chronic_kidney_disease              0\n",
       "Adrenal_and_thyroid_disorders       0\n",
       "dtype: int64"
      ]
     },
     "execution_count": 8,
     "metadata": {},
     "output_type": "execute_result"
    }
   ],
   "source": [
    "# Check if any nulls is there \n",
    "\n",
    "bpa.isnull().sum()"
   ]
  },
  {
   "cell_type": "markdown",
   "id": "28813c5a",
   "metadata": {},
   "source": [
    "### Remove the nulls,\n",
    "### 1) first check the no.of particulars by applying 'value_counts'.\n",
    "### 2) IF all data is numeric, then apply the mean function over it.\n",
    "### 3) If data is in categorical form, then feel the NA values with most repeated NA valued variable."
   ]
  },
  {
   "cell_type": "code",
   "execution_count": 10,
   "id": "98d902e9",
   "metadata": {},
   "outputs": [],
   "source": [
    "bpa.Genetic_Pedigree_Coefficient.value_counts()\n",
    "bpa.Genetic_Pedigree_Coefficient = bpa.Genetic_Pedigree_Coefficient.fillna(bpa.Genetic_Pedigree_Coefficient.mean())"
   ]
  },
  {
   "cell_type": "code",
   "execution_count": 11,
   "id": "f78bd820",
   "metadata": {},
   "outputs": [],
   "source": [
    "bpa.Pregnancy.value_counts()\n",
    "bpa.Pregnancy = bpa.Pregnancy.fillna(0)"
   ]
  },
  {
   "cell_type": "code",
   "execution_count": 12,
   "id": "6355411a",
   "metadata": {},
   "outputs": [],
   "source": [
    "bpa.alcohol_consumption_per_day.value_counts()\n",
    "bpa.alcohol_consumption_per_day = bpa.alcohol_consumption_per_day.fillna(bpa.alcohol_consumption_per_day.mean())"
   ]
  },
  {
   "cell_type": "code",
   "execution_count": 13,
   "id": "939f6692",
   "metadata": {},
   "outputs": [
    {
     "data": {
      "text/plain": [
       "Patient_Number                   0\n",
       "Blood_Pressure_Abnormality       0\n",
       "Level_of_Hemoglobin              0\n",
       "Genetic_Pedigree_Coefficient     0\n",
       "Age                              0\n",
       "BMI                              0\n",
       "Sex                              0\n",
       "Pregnancy                        0\n",
       "Smoking                          0\n",
       "Physical_activity                0\n",
       "salt_content_in_the_diet         0\n",
       "alcohol_consumption_per_day      0\n",
       "Level_of_Stress                  0\n",
       "Chronic_kidney_disease           0\n",
       "Adrenal_and_thyroid_disorders    0\n",
       "dtype: int64"
      ]
     },
     "execution_count": 13,
     "metadata": {},
     "output_type": "execute_result"
    }
   ],
   "source": [
    "# Check for the nulls is any \n",
    "\n",
    "bpa.isnull().sum()"
   ]
  },
  {
   "cell_type": "code",
   "execution_count": 14,
   "id": "078d805b",
   "metadata": {},
   "outputs": [],
   "source": [
    "# Drop the unwanted data if any \n",
    "\n",
    "bpa =bpa.drop([\"Smoking\",\"Physical_activity\", \"salt_content_in_the_diet\", \"Level_of_Stress\", \"Sex\",\"BMI\", \"Patient_Number\"], axis = 1)"
   ]
  },
  {
   "cell_type": "code",
   "execution_count": 15,
   "id": "ac09df17",
   "metadata": {},
   "outputs": [
    {
     "data": {
      "text/plain": [
       "(2000, 8)"
      ]
     },
     "execution_count": 15,
     "metadata": {},
     "output_type": "execute_result"
    }
   ],
   "source": [
    "# check the shape of data set \n",
    "bpa.shape"
   ]
  },
  {
   "cell_type": "markdown",
   "id": "fdd19a4d",
   "metadata": {},
   "source": [
    "## Data sampling"
   ]
  },
  {
   "cell_type": "markdown",
   "id": "9fa73a26",
   "metadata": {},
   "source": [
    "### Data sampling in train and test with 80-20 percentage\n",
    "\n",
    "### Similarly, build your test data for the all rows and columns from 1 and so forth  for x ( independant variable )\n",
    "### And test data for all the rows and target column i.e. 0 ( dependant varibale )"
   ]
  },
  {
   "cell_type": "code",
   "execution_count": 19,
   "id": "863a6648",
   "metadata": {},
   "outputs": [],
   "source": [
    "from sklearn.model_selection import train_test_split\n",
    "bpa_train, bpa_test = train_test_split(bpa, test_size = 0.2)"
   ]
  },
  {
   "cell_type": "code",
   "execution_count": 20,
   "id": "c8d7f516",
   "metadata": {},
   "outputs": [
    {
     "data": {
      "text/html": [
       "<div>\n",
       "<style scoped>\n",
       "    .dataframe tbody tr th:only-of-type {\n",
       "        vertical-align: middle;\n",
       "    }\n",
       "\n",
       "    .dataframe tbody tr th {\n",
       "        vertical-align: top;\n",
       "    }\n",
       "\n",
       "    .dataframe thead th {\n",
       "        text-align: right;\n",
       "    }\n",
       "</style>\n",
       "<table border=\"1\" class=\"dataframe\">\n",
       "  <thead>\n",
       "    <tr style=\"text-align: right;\">\n",
       "      <th></th>\n",
       "      <th>Blood_Pressure_Abnormality</th>\n",
       "      <th>Level_of_Hemoglobin</th>\n",
       "      <th>Genetic_Pedigree_Coefficient</th>\n",
       "      <th>Age</th>\n",
       "      <th>Pregnancy</th>\n",
       "      <th>alcohol_consumption_per_day</th>\n",
       "      <th>Chronic_kidney_disease</th>\n",
       "      <th>Adrenal_and_thyroid_disorders</th>\n",
       "    </tr>\n",
       "  </thead>\n",
       "  <tbody>\n",
       "    <tr>\n",
       "      <th>0</th>\n",
       "      <td>1</td>\n",
       "      <td>11.28</td>\n",
       "      <td>0.90</td>\n",
       "      <td>34</td>\n",
       "      <td>1.0</td>\n",
       "      <td>251.008532</td>\n",
       "      <td>1</td>\n",
       "      <td>1</td>\n",
       "    </tr>\n",
       "    <tr>\n",
       "      <th>1</th>\n",
       "      <td>0</td>\n",
       "      <td>9.75</td>\n",
       "      <td>0.23</td>\n",
       "      <td>54</td>\n",
       "      <td>0.0</td>\n",
       "      <td>205.000000</td>\n",
       "      <td>0</td>\n",
       "      <td>0</td>\n",
       "    </tr>\n",
       "    <tr>\n",
       "      <th>2</th>\n",
       "      <td>1</td>\n",
       "      <td>10.79</td>\n",
       "      <td>0.91</td>\n",
       "      <td>70</td>\n",
       "      <td>0.0</td>\n",
       "      <td>67.000000</td>\n",
       "      <td>1</td>\n",
       "      <td>0</td>\n",
       "    </tr>\n",
       "    <tr>\n",
       "      <th>3</th>\n",
       "      <td>0</td>\n",
       "      <td>11.00</td>\n",
       "      <td>0.43</td>\n",
       "      <td>71</td>\n",
       "      <td>0.0</td>\n",
       "      <td>242.000000</td>\n",
       "      <td>1</td>\n",
       "      <td>0</td>\n",
       "    </tr>\n",
       "    <tr>\n",
       "      <th>4</th>\n",
       "      <td>1</td>\n",
       "      <td>14.17</td>\n",
       "      <td>0.83</td>\n",
       "      <td>52</td>\n",
       "      <td>0.0</td>\n",
       "      <td>397.000000</td>\n",
       "      <td>0</td>\n",
       "      <td>0</td>\n",
       "    </tr>\n",
       "  </tbody>\n",
       "</table>\n",
       "</div>"
      ],
      "text/plain": [
       "   Blood_Pressure_Abnormality  Level_of_Hemoglobin  \\\n",
       "0                           1                11.28   \n",
       "1                           0                 9.75   \n",
       "2                           1                10.79   \n",
       "3                           0                11.00   \n",
       "4                           1                14.17   \n",
       "\n",
       "   Genetic_Pedigree_Coefficient  Age  Pregnancy  alcohol_consumption_per_day  \\\n",
       "0                          0.90   34        1.0                   251.008532   \n",
       "1                          0.23   54        0.0                   205.000000   \n",
       "2                          0.91   70        0.0                    67.000000   \n",
       "3                          0.43   71        0.0                   242.000000   \n",
       "4                          0.83   52        0.0                   397.000000   \n",
       "\n",
       "   Chronic_kidney_disease  Adrenal_and_thyroid_disorders  \n",
       "0                       1                              1  \n",
       "1                       0                              0  \n",
       "2                       1                              0  \n",
       "3                       1                              0  \n",
       "4                       0                              0  "
      ]
     },
     "execution_count": 20,
     "metadata": {},
     "output_type": "execute_result"
    }
   ],
   "source": [
    "# Check the head function \n",
    "\n",
    "bpa.head()"
   ]
  },
  {
   "cell_type": "markdown",
   "id": "8e157d76",
   "metadata": {},
   "source": [
    "### Similarly, build your test data for the all rows and columns from 1 and so forth  for x ( independant variable )\n",
    "### And test data for all the rows and target column i.e. 0 ( dependant varibale )"
   ]
  },
  {
   "cell_type": "code",
   "execution_count": 21,
   "id": "50fc20f9",
   "metadata": {},
   "outputs": [],
   "source": [
    "bpa_train_x = bpa_train.iloc[:,1:]\n",
    "bpa_train_y = bpa_train.iloc[:, 0]"
   ]
  },
  {
   "cell_type": "code",
   "execution_count": 22,
   "id": "f494132a",
   "metadata": {},
   "outputs": [],
   "source": [
    "bpa_test_x = bpa_test.iloc[ : , 1:]\n",
    "bpa_test_y = bpa_test.iloc[ :, 0]"
   ]
  },
  {
   "cell_type": "code",
   "execution_count": 23,
   "id": "56621278",
   "metadata": {},
   "outputs": [
    {
     "name": "stdout",
     "output_type": "stream",
     "text": [
      "(1600, 7)\n",
      "(1600,)\n"
     ]
    }
   ],
   "source": [
    "print(bpa_train_x.shape)\n",
    "print(bpa_train_y.shape)"
   ]
  },
  {
   "cell_type": "code",
   "execution_count": 24,
   "id": "ed6fdd95",
   "metadata": {},
   "outputs": [
    {
     "name": "stdout",
     "output_type": "stream",
     "text": [
      "(400, 7)\n",
      "(400,)\n"
     ]
    }
   ],
   "source": [
    "print(bpa_test_x.shape)\n",
    "print(bpa_test_y.shape)"
   ]
  },
  {
   "cell_type": "markdown",
   "id": "540682c1",
   "metadata": {},
   "source": [
    "# Build the logistic Regression Model"
   ]
  },
  {
   "cell_type": "markdown",
   "id": "be00f84e",
   "metadata": {},
   "source": [
    "### Import the LogisticRegression model using sklearn_model selection."
   ]
  },
  {
   "cell_type": "code",
   "execution_count": 25,
   "id": "116533a9",
   "metadata": {},
   "outputs": [],
   "source": [
    "from sklearn.linear_model import LogisticRegression\n",
    "logreg = LogisticRegression()"
   ]
  },
  {
   "cell_type": "code",
   "execution_count": 26,
   "id": "370b61d1",
   "metadata": {},
   "outputs": [
    {
     "name": "stderr",
     "output_type": "stream",
     "text": [
      "C:\\Users\\Pravin\\anaconda3\\lib\\site-packages\\sklearn\\linear_model\\_logistic.py:763: ConvergenceWarning: lbfgs failed to converge (status=1):\n",
      "STOP: TOTAL NO. of ITERATIONS REACHED LIMIT.\n",
      "\n",
      "Increase the number of iterations (max_iter) or scale the data as shown in:\n",
      "    https://scikit-learn.org/stable/modules/preprocessing.html\n",
      "Please also refer to the documentation for alternative solver options:\n",
      "    https://scikit-learn.org/stable/modules/linear_model.html#logistic-regression\n",
      "  n_iter_i = _check_optimize_result(\n"
     ]
    },
    {
     "data": {
      "text/plain": [
       "LogisticRegression()"
      ]
     },
     "execution_count": 26,
     "metadata": {},
     "output_type": "execute_result"
    }
   ],
   "source": [
    "# fit the model over train data set of x and y \n",
    "\n",
    "logreg.fit(bpa_train_x, bpa_train_y)"
   ]
  },
  {
   "cell_type": "code",
   "execution_count": 28,
   "id": "3bf0d955",
   "metadata": {},
   "outputs": [
    {
     "data": {
      "text/plain": [
       "array([0, 0, 1, 0, 1, 0, 1, 0, 0, 1, 1, 1, 1, 0, 1, 1, 0, 0, 0, 0, 1, 0,\n",
       "       0, 1, 1, 1, 1, 0, 1, 1, 1, 1, 0, 0, 1, 1, 0, 1, 0, 0, 0, 0, 1, 0,\n",
       "       0, 1, 0, 1, 0, 1, 1, 1, 1, 0, 1, 0, 0, 0, 0, 1, 1, 1, 1, 1, 0, 0,\n",
       "       1, 0, 0, 1, 1, 0, 0, 1, 1, 0, 1, 1, 1, 0, 0, 0, 1, 1, 1, 0, 1, 0,\n",
       "       0, 1, 0, 1, 1, 0, 1, 1, 1, 1, 0, 0, 1, 0, 0, 1, 1, 1, 1, 1, 0, 0,\n",
       "       1, 0, 1, 1, 0, 0, 0, 0, 0, 0, 1, 1, 0, 1, 1, 0, 1, 0, 1, 1, 0, 0,\n",
       "       0, 1, 1, 0, 1, 0, 1, 0, 1, 0, 0, 1, 1, 0, 1, 0, 0, 1, 0, 1, 0, 0,\n",
       "       0, 0, 1, 0, 1, 0, 1, 0, 0, 0, 1, 1, 1, 1, 0, 1, 1, 0, 1, 1, 1, 1,\n",
       "       0, 0, 1, 1, 1, 0, 1, 1, 1, 1, 0, 1, 1, 1, 1, 1, 0, 1, 1, 0, 0, 0,\n",
       "       0, 1, 0, 0, 1, 1, 1, 0, 0, 1, 1, 1, 0, 1, 1, 1, 0, 1, 0, 0, 1, 1,\n",
       "       0, 0, 1, 1, 0, 1, 0, 0, 0, 0, 0, 0, 1, 0, 1, 1, 1, 0, 1, 1, 0, 0,\n",
       "       1, 1, 1, 0, 0, 0, 0, 1, 0, 0, 0, 0, 1, 0, 0, 0, 1, 0, 1, 1, 0, 0,\n",
       "       1, 1, 0, 0, 0, 1, 0, 1, 0, 1, 0, 1, 1, 1, 0, 1, 0, 1, 0, 1, 1, 1,\n",
       "       0, 1, 1, 0, 0, 1, 0, 0, 1, 1, 1, 1, 0, 1, 1, 1, 0, 1, 0, 1, 0, 1,\n",
       "       0, 0, 0, 0, 0, 1, 0, 0, 1, 1, 1, 0, 0, 1, 1, 1, 0, 1, 1, 1, 0, 0,\n",
       "       0, 0, 0, 1, 1, 1, 0, 0, 0, 0, 0, 0, 0, 0, 1, 0, 1, 1, 0, 0, 0, 1,\n",
       "       0, 1, 0, 1, 1, 0, 0, 0, 1, 0, 1, 1, 0, 1, 1, 1, 0, 1, 1, 1, 1, 0,\n",
       "       0, 0, 0, 1, 1, 0, 0, 1, 0, 1, 0, 0, 0, 0, 0, 1, 1, 0, 1, 0, 1, 1,\n",
       "       0, 1, 0, 0], dtype=int64)"
      ]
     },
     "execution_count": 28,
     "metadata": {},
     "output_type": "execute_result"
    }
   ],
   "source": [
    "# Do your prediction over test data of x\n",
    "\n",
    "\n",
    "pred_test_bpa = logreg.predict(bpa_test_x)\n",
    "pred_test_bpa"
   ]
  },
  {
   "cell_type": "markdown",
   "id": "0f79402f",
   "metadata": {},
   "source": [
    "#### Logistic Regression model is verified over confusion matrix \n",
    "#### Its strength is calculated over confusion matrix \n",
    "#### More are our true values, more stable is our model"
   ]
  },
  {
   "cell_type": "code",
   "execution_count": 30,
   "id": "d85563d7",
   "metadata": {},
   "outputs": [],
   "source": [
    "# import funciton 'confusion matrix' form 'sklearn.metrics- library'\n",
    "\n",
    "from sklearn.metrics import confusion_matrix"
   ]
  },
  {
   "cell_type": "code",
   "execution_count": 31,
   "id": "4fc66178",
   "metadata": {},
   "outputs": [
    {
     "data": {
      "text/plain": [
       "array([[148,  50],\n",
       "       [ 61, 141]], dtype=int64)"
      ]
     },
     "execution_count": 31,
     "metadata": {},
     "output_type": "execute_result"
    }
   ],
   "source": [
    "# Now we can draw the confusion matrix by using confusion matrix fucntion \n",
    "\n",
    "table1 = confusion_matrix(pred_test_bpa, bpa_test_y)\n",
    "table1"
   ]
  },
  {
   "cell_type": "code",
   "execution_count": 32,
   "id": "de02498e",
   "metadata": {},
   "outputs": [
    {
     "data": {
      "text/plain": [
       "72.25"
      ]
     },
     "execution_count": 32,
     "metadata": {},
     "output_type": "execute_result"
    }
   ],
   "source": [
    "# To calculate, Accuracy - method - I \n",
    "\n",
    "Acc = table1.diagonal().sum() * 100 / table1.sum()\n",
    "Acc"
   ]
  },
  {
   "cell_type": "code",
   "execution_count": 34,
   "id": "047607be",
   "metadata": {},
   "outputs": [
    {
     "data": {
      "text/plain": [
       "72.25"
      ]
     },
     "execution_count": 34,
     "metadata": {},
     "output_type": "execute_result"
    }
   ],
   "source": [
    "# Method -II - to Calculate the Accuracy\n",
    "\n",
    "# Instead using above confusion matrix table method, we can also use following 'in-build' function named 'accuracy_score'\n",
    "# Accuracy score directly gives \n",
    "\n",
    "\n",
    "from sklearn.metrics import accuracy_score\n",
    "accuracy_score(pred_test_bpa, bpa_test_y) * 100"
   ]
  },
  {
   "cell_type": "code",
   "execution_count": 35,
   "id": "eb9b008b",
   "metadata": {},
   "outputs": [
    {
     "data": {
      "text/plain": [
       "0.7382198952879581"
      ]
     },
     "execution_count": 35,
     "metadata": {},
     "output_type": "execute_result"
    }
   ],
   "source": [
    "#  here is the formula for TPR (true positive rate )\n",
    "# we are taking into consideration the elements by square brackets by using table fucntion.\n",
    "\n",
    "Tpr = table1[1][1] / (table1[1][1] + table1[0][1] )\n",
    "Tpr"
   ]
  },
  {
   "cell_type": "code",
   "execution_count": 36,
   "id": "936db74a",
   "metadata": {},
   "outputs": [
    {
     "data": {
      "text/plain": [
       "0.291866028708134"
      ]
     },
     "execution_count": 36,
     "metadata": {},
     "output_type": "execute_result"
    }
   ],
   "source": [
    "### Simly, here is the formula for FPR ( false positive rate )\n",
    "\n",
    "Fpr = table1[1][0] / (table1[1][0] + table1[0][0] )\n",
    "Fpr"
   ]
  },
  {
   "cell_type": "code",
   "execution_count": 37,
   "id": "1b2ee9db",
   "metadata": {},
   "outputs": [
    {
     "data": {
      "text/plain": [
       "array([[ 1.26323267e-01, -4.77040469e-01, -5.31110358e-03,\n",
       "         3.35485140e-01,  3.36503725e-04,  1.84950446e+00,\n",
       "         1.22784290e+00]])"
      ]
     },
     "execution_count": 37,
     "metadata": {},
     "output_type": "execute_result"
    }
   ],
   "source": [
    "# Beta values for each x variable ( independant varibale)\n",
    "\n",
    "\n",
    "logreg.coef_"
   ]
  },
  {
   "cell_type": "code",
   "execution_count": 38,
   "id": "11ad06a5",
   "metadata": {},
   "outputs": [
    {
     "data": {
      "text/plain": [
       "array([-2.59105648])"
      ]
     },
     "execution_count": 38,
     "metadata": {},
     "output_type": "execute_result"
    }
   ],
   "source": [
    "# Intercept value / slope / C value or / B-Beta zero value\n",
    "\n",
    "logreg.intercept_"
   ]
  },
  {
   "cell_type": "markdown",
   "id": "60773133",
   "metadata": {},
   "source": [
    "#### Prediction Probablity over test data"
   ]
  },
  {
   "cell_type": "code",
   "execution_count": 39,
   "id": "3bd7d891",
   "metadata": {},
   "outputs": [
    {
     "data": {
      "text/plain": [
       "array([[0.84450743, 0.15549257],\n",
       "       [0.79752303, 0.20247697],\n",
       "       [0.08986015, 0.91013985],\n",
       "       [0.81972744, 0.18027256],\n",
       "       [0.47412002, 0.52587998],\n",
       "       [0.79242165, 0.20757835],\n",
       "       [0.14631749, 0.85368251],\n",
       "       [0.78663937, 0.21336063],\n",
       "       [0.76307651, 0.23692349],\n",
       "       [0.41535797, 0.58464203],\n",
       "       [0.45675928, 0.54324072],\n",
       "       [0.20025794, 0.79974206],\n",
       "       [0.23591502, 0.76408498],\n",
       "       [0.85521157, 0.14478843],\n",
       "       [0.3793241 , 0.6206759 ],\n",
       "       [0.13141489, 0.86858511],\n",
       "       [0.65428058, 0.34571942],\n",
       "       [0.53171596, 0.46828404],\n",
       "       [0.84085457, 0.15914543],\n",
       "       [0.56615543, 0.43384457],\n",
       "       [0.43412225, 0.56587775],\n",
       "       [0.84618363, 0.15381637],\n",
       "       [0.61238906, 0.38761094],\n",
       "       [0.08675995, 0.91324005],\n",
       "       [0.09481622, 0.90518378],\n",
       "       [0.19270549, 0.80729451],\n",
       "       [0.33834317, 0.66165683],\n",
       "       [0.81958458, 0.18041542],\n",
       "       [0.22520374, 0.77479626],\n",
       "       [0.23414035, 0.76585965],\n",
       "       [0.22103534, 0.77896466],\n",
       "       [0.34534967, 0.65465033],\n",
       "       [0.62871973, 0.37128027],\n",
       "       [0.67369013, 0.32630987],\n",
       "       [0.11119937, 0.88880063],\n",
       "       [0.45992193, 0.54007807],\n",
       "       [0.57855007, 0.42144993],\n",
       "       [0.13571113, 0.86428887],\n",
       "       [0.78172998, 0.21827002],\n",
       "       [0.77050424, 0.22949576],\n",
       "       [0.68760107, 0.31239893],\n",
       "       [0.65597942, 0.34402058],\n",
       "       [0.27542341, 0.72457659],\n",
       "       [0.83782372, 0.16217628],\n",
       "       [0.58267486, 0.41732514],\n",
       "       [0.12575059, 0.87424941],\n",
       "       [0.83807504, 0.16192496],\n",
       "       [0.38719657, 0.61280343],\n",
       "       [0.85307914, 0.14692086],\n",
       "       [0.32675062, 0.67324938],\n",
       "       [0.23566822, 0.76433178],\n",
       "       [0.16783278, 0.83216722],\n",
       "       [0.20457244, 0.79542756],\n",
       "       [0.52760141, 0.47239859],\n",
       "       [0.42861044, 0.57138956],\n",
       "       [0.84993297, 0.15006703],\n",
       "       [0.76059018, 0.23940982],\n",
       "       [0.76937339, 0.23062661],\n",
       "       [0.56973208, 0.43026792],\n",
       "       [0.18662051, 0.81337949],\n",
       "       [0.15192385, 0.84807615],\n",
       "       [0.38582241, 0.61417759],\n",
       "       [0.18449405, 0.81550595],\n",
       "       [0.1390292 , 0.8609708 ],\n",
       "       [0.79287876, 0.20712124],\n",
       "       [0.55009523, 0.44990477],\n",
       "       [0.15415228, 0.84584772],\n",
       "       [0.86269535, 0.13730465],\n",
       "       [0.57541611, 0.42458389],\n",
       "       [0.4581444 , 0.5418556 ],\n",
       "       [0.12505626, 0.87494374],\n",
       "       [0.56480873, 0.43519127],\n",
       "       [0.55476051, 0.44523949],\n",
       "       [0.46230268, 0.53769732],\n",
       "       [0.11812643, 0.88187357],\n",
       "       [0.81292111, 0.18707889],\n",
       "       [0.36078559, 0.63921441],\n",
       "       [0.10652392, 0.89347608],\n",
       "       [0.40663325, 0.59336675],\n",
       "       [0.86226228, 0.13773772],\n",
       "       [0.86490263, 0.13509737],\n",
       "       [0.62832497, 0.37167503],\n",
       "       [0.3387106 , 0.6612894 ],\n",
       "       [0.4232787 , 0.5767213 ],\n",
       "       [0.19317338, 0.80682662],\n",
       "       [0.82332478, 0.17667522],\n",
       "       [0.47128929, 0.52871071],\n",
       "       [0.72906413, 0.27093587],\n",
       "       [0.86539583, 0.13460417],\n",
       "       [0.47623748, 0.52376252],\n",
       "       [0.76165808, 0.23834192],\n",
       "       [0.14166746, 0.85833254],\n",
       "       [0.4664897 , 0.5335103 ],\n",
       "       [0.78472941, 0.21527059],\n",
       "       [0.37744994, 0.62255006],\n",
       "       [0.35742081, 0.64257919],\n",
       "       [0.47261559, 0.52738441],\n",
       "       [0.11906107, 0.88093893],\n",
       "       [0.85478612, 0.14521388],\n",
       "       [0.53001331, 0.46998669],\n",
       "       [0.34087065, 0.65912935],\n",
       "       [0.85884938, 0.14115062],\n",
       "       [0.61238619, 0.38761381],\n",
       "       [0.19756906, 0.80243094],\n",
       "       [0.42241162, 0.57758838],\n",
       "       [0.27823682, 0.72176318],\n",
       "       [0.48392188, 0.51607812],\n",
       "       [0.49630862, 0.50369138],\n",
       "       [0.58888003, 0.41111997],\n",
       "       [0.74275203, 0.25724797],\n",
       "       [0.25245303, 0.74754697],\n",
       "       [0.5787264 , 0.4212736 ],\n",
       "       [0.23598365, 0.76401635],\n",
       "       [0.2387484 , 0.7612516 ],\n",
       "       [0.87169001, 0.12830999],\n",
       "       [0.81025866, 0.18974134],\n",
       "       [0.79467272, 0.20532728],\n",
       "       [0.59637203, 0.40362797],\n",
       "       [0.56223737, 0.43776263],\n",
       "       [0.76754145, 0.23245855],\n",
       "       [0.17228949, 0.82771051],\n",
       "       [0.37337791, 0.62662209],\n",
       "       [0.87133811, 0.12866189],\n",
       "       [0.19999753, 0.80000247],\n",
       "       [0.23851286, 0.76148714],\n",
       "       [0.80796646, 0.19203354],\n",
       "       [0.15638271, 0.84361729],\n",
       "       [0.87057045, 0.12942955],\n",
       "       [0.48429226, 0.51570774],\n",
       "       [0.42939142, 0.57060858],\n",
       "       [0.57911559, 0.42088441],\n",
       "       [0.83845616, 0.16154384],\n",
       "       [0.80986995, 0.19013005],\n",
       "       [0.15928124, 0.84071876],\n",
       "       [0.42771287, 0.57228713],\n",
       "       [0.82452806, 0.17547194],\n",
       "       [0.27687209, 0.72312791],\n",
       "       [0.6478361 , 0.3521639 ],\n",
       "       [0.48517671, 0.51482329],\n",
       "       [0.83008475, 0.16991525],\n",
       "       [0.49916714, 0.50083286],\n",
       "       [0.82726116, 0.17273884],\n",
       "       [0.82020797, 0.17979203],\n",
       "       [0.44225167, 0.55774833],\n",
       "       [0.19698976, 0.80301024],\n",
       "       [0.63903522, 0.36096478],\n",
       "       [0.21113481, 0.78886519],\n",
       "       [0.8372035 , 0.1627965 ],\n",
       "       [0.59987536, 0.40012464],\n",
       "       [0.48920176, 0.51079824],\n",
       "       [0.85039578, 0.14960422],\n",
       "       [0.24681802, 0.75318198],\n",
       "       [0.81984389, 0.18015611],\n",
       "       [0.84191748, 0.15808252],\n",
       "       [0.86919721, 0.13080279],\n",
       "       [0.78216121, 0.21783879],\n",
       "       [0.38449287, 0.61550713],\n",
       "       [0.86846248, 0.13153752],\n",
       "       [0.23909507, 0.76090493],\n",
       "       [0.83961747, 0.16038253],\n",
       "       [0.20627837, 0.79372163],\n",
       "       [0.65230821, 0.34769179],\n",
       "       [0.58056455, 0.41943545],\n",
       "       [0.74764905, 0.25235095],\n",
       "       [0.13356736, 0.86643264],\n",
       "       [0.21383262, 0.78616738],\n",
       "       [0.12175095, 0.87824905],\n",
       "       [0.13550679, 0.86449321],\n",
       "       [0.5754146 , 0.4245854 ],\n",
       "       [0.1700375 , 0.8299625 ],\n",
       "       [0.42999804, 0.57000196],\n",
       "       [0.53654435, 0.46345565],\n",
       "       [0.20574453, 0.79425547],\n",
       "       [0.20872222, 0.79127778],\n",
       "       [0.11722354, 0.88277646],\n",
       "       [0.48295401, 0.51704599],\n",
       "       [0.80600603, 0.19399397],\n",
       "       [0.83023226, 0.16976774],\n",
       "       [0.40684954, 0.59315046],\n",
       "       [0.42769312, 0.57230688],\n",
       "       [0.36148868, 0.63851132],\n",
       "       [0.697271  , 0.302729  ],\n",
       "       [0.14943602, 0.85056398],\n",
       "       [0.43955511, 0.56044489],\n",
       "       [0.48386777, 0.51613223],\n",
       "       [0.30159277, 0.69840723],\n",
       "       [0.82500873, 0.17499127],\n",
       "       [0.36299833, 0.63700167],\n",
       "       [0.42651592, 0.57348408],\n",
       "       [0.15441709, 0.84558291],\n",
       "       [0.17946528, 0.82053472],\n",
       "       [0.10940572, 0.89059428],\n",
       "       [0.76655412, 0.23344588],\n",
       "       [0.20905651, 0.79094349],\n",
       "       [0.41423869, 0.58576131],\n",
       "       [0.81391077, 0.18608923],\n",
       "       [0.8268039 , 0.1731961 ],\n",
       "       [0.85842754, 0.14157246],\n",
       "       [0.81786296, 0.18213704],\n",
       "       [0.4593396 , 0.5406604 ],\n",
       "       [0.61849405, 0.38150595],\n",
       "       [0.64437762, 0.35562238],\n",
       "       [0.13751666, 0.86248334],\n",
       "       [0.09965855, 0.90034145],\n",
       "       [0.34966545, 0.65033455],\n",
       "       [0.84621426, 0.15378574],\n",
       "       [0.82028739, 0.17971261],\n",
       "       [0.47958921, 0.52041079],\n",
       "       [0.10509786, 0.89490214],\n",
       "       [0.25540509, 0.74459491],\n",
       "       [0.50832639, 0.49167361],\n",
       "       [0.41669283, 0.58330717],\n",
       "       [0.24453135, 0.75546865],\n",
       "       [0.30509698, 0.69490302],\n",
       "       [0.86422873, 0.13577127],\n",
       "       [0.4279084 , 0.5720916 ],\n",
       "       [0.86497121, 0.13502879],\n",
       "       [0.86782262, 0.13217738],\n",
       "       [0.35449982, 0.64550018],\n",
       "       [0.25637348, 0.74362652],\n",
       "       [0.81525221, 0.18474779],\n",
       "       [0.55302915, 0.44697085],\n",
       "       [0.10606317, 0.89393683],\n",
       "       [0.21549091, 0.78450909],\n",
       "       [0.58840216, 0.41159784],\n",
       "       [0.39094397, 0.60905603],\n",
       "       [0.84148658, 0.15851342],\n",
       "       [0.7802276 , 0.2197724 ],\n",
       "       [0.6113854 , 0.3886146 ],\n",
       "       [0.77406215, 0.22593785],\n",
       "       [0.79964889, 0.20035111],\n",
       "       [0.78867498, 0.21132502],\n",
       "       [0.40235191, 0.59764809],\n",
       "       [0.77988236, 0.22011764],\n",
       "       [0.12951489, 0.87048511],\n",
       "       [0.247842  , 0.752158  ],\n",
       "       [0.16081645, 0.83918355],\n",
       "       [0.60223257, 0.39776743],\n",
       "       [0.43442682, 0.56557318],\n",
       "       [0.17579543, 0.82420457],\n",
       "       [0.76506067, 0.23493933],\n",
       "       [0.79186542, 0.20813458],\n",
       "       [0.46021233, 0.53978767],\n",
       "       [0.2093834 , 0.7906166 ],\n",
       "       [0.10258141, 0.89741859],\n",
       "       [0.50279486, 0.49720514],\n",
       "       [0.67968772, 0.32031228],\n",
       "       [0.87498044, 0.12501956],\n",
       "       [0.78290555, 0.21709445],\n",
       "       [0.11906747, 0.88093253],\n",
       "       [0.78712484, 0.21287516],\n",
       "       [0.80638249, 0.19361751],\n",
       "       [0.85313516, 0.14686484],\n",
       "       [0.60588425, 0.39411575],\n",
       "       [0.32600738, 0.67399262],\n",
       "       [0.66112656, 0.33887344],\n",
       "       [0.87102466, 0.12897534],\n",
       "       [0.72687383, 0.27312617],\n",
       "       [0.37343169, 0.62656831],\n",
       "       [0.66411787, 0.33588213],\n",
       "       [0.49814485, 0.50185515],\n",
       "       [0.23967072, 0.76032928],\n",
       "       [0.87443368, 0.12556632],\n",
       "       [0.59006324, 0.40993676],\n",
       "       [0.10743023, 0.89256977],\n",
       "       [0.16604454, 0.83395546],\n",
       "       [0.5189955 , 0.4810045 ],\n",
       "       [0.82985611, 0.17014389],\n",
       "       [0.64021901, 0.35978099],\n",
       "       [0.17512026, 0.82487974],\n",
       "       [0.60299621, 0.39700379],\n",
       "       [0.10752435, 0.89247565],\n",
       "       [0.58978703, 0.41021297],\n",
       "       [0.43170095, 0.56829905],\n",
       "       [0.8601339 , 0.1398661 ],\n",
       "       [0.40111459, 0.59888541],\n",
       "       [0.44724323, 0.55275677],\n",
       "       [0.44447517, 0.55552483],\n",
       "       [0.73685765, 0.26314235],\n",
       "       [0.08913562, 0.91086438],\n",
       "       [0.69614678, 0.30385322],\n",
       "       [0.37931792, 0.62068208],\n",
       "       [0.50167643, 0.49832357],\n",
       "       [0.24035585, 0.75964415],\n",
       "       [0.12120887, 0.87879113],\n",
       "       [0.47269577, 0.52730423],\n",
       "       [0.77328849, 0.22671151],\n",
       "       [0.41805289, 0.58194711],\n",
       "       [0.39722148, 0.60277852],\n",
       "       [0.85367819, 0.14632181],\n",
       "       [0.82099513, 0.17900487],\n",
       "       [0.46684692, 0.53315308],\n",
       "       [0.5788462 , 0.4211538 ],\n",
       "       [0.83510165, 0.16489835],\n",
       "       [0.43125264, 0.56874736],\n",
       "       [0.49579191, 0.50420809],\n",
       "       [0.42134069, 0.57865931],\n",
       "       [0.20197468, 0.79802532],\n",
       "       [0.76644552, 0.23355448],\n",
       "       [0.26739702, 0.73260298],\n",
       "       [0.17760146, 0.82239854],\n",
       "       [0.20049146, 0.79950854],\n",
       "       [0.86166653, 0.13833347],\n",
       "       [0.40638716, 0.59361284],\n",
       "       [0.78050771, 0.21949229],\n",
       "       [0.40713498, 0.59286502],\n",
       "       [0.81365199, 0.18634801],\n",
       "       [0.12751365, 0.87248635],\n",
       "       [0.79030895, 0.20969105],\n",
       "       [0.82898355, 0.17101645],\n",
       "       [0.50021918, 0.49978082],\n",
       "       [0.80489689, 0.19510311],\n",
       "       [0.80500108, 0.19499892],\n",
       "       [0.31722635, 0.68277365],\n",
       "       [0.70018068, 0.29981932],\n",
       "       [0.77063443, 0.22936557],\n",
       "       [0.133441  , 0.866559  ],\n",
       "       [0.43746545, 0.56253455],\n",
       "       [0.11861092, 0.88138908],\n",
       "       [0.50045369, 0.49954631],\n",
       "       [0.85079895, 0.14920105],\n",
       "       [0.23085699, 0.76914301],\n",
       "       [0.1623337 , 0.8376663 ],\n",
       "       [0.19107416, 0.80892584],\n",
       "       [0.64879865, 0.35120135],\n",
       "       [0.3945918 , 0.6054082 ],\n",
       "       [0.12860077, 0.87139923],\n",
       "       [0.49090962, 0.50909038],\n",
       "       [0.62508669, 0.37491331],\n",
       "       [0.8201483 , 0.1798517 ],\n",
       "       [0.55297348, 0.44702652],\n",
       "       [0.84120641, 0.15879359],\n",
       "       [0.86011474, 0.13988526],\n",
       "       [0.39575294, 0.60424706],\n",
       "       [0.12883255, 0.87116745],\n",
       "       [0.33719756, 0.66280244],\n",
       "       [0.8581905 , 0.1418095 ],\n",
       "       [0.7595153 , 0.2404847 ],\n",
       "       [0.86956407, 0.13043593],\n",
       "       [0.56315914, 0.43684086],\n",
       "       [0.81699617, 0.18300383],\n",
       "       [0.84588256, 0.15411744],\n",
       "       [0.70119177, 0.29880823],\n",
       "       [0.79874033, 0.20125967],\n",
       "       [0.23898525, 0.76101475],\n",
       "       [0.51825868, 0.48174132],\n",
       "       [0.14409865, 0.85590135],\n",
       "       [0.17886216, 0.82113784],\n",
       "       [0.50607129, 0.49392871],\n",
       "       [0.8169391 , 0.1830609 ],\n",
       "       [0.7581219 , 0.2418781 ],\n",
       "       [0.23203202, 0.76796798],\n",
       "       [0.78080555, 0.21919445],\n",
       "       [0.43939431, 0.56060569],\n",
       "       [0.56882133, 0.43117867],\n",
       "       [0.26658561, 0.73341439],\n",
       "       [0.21667869, 0.78332131],\n",
       "       [0.70921968, 0.29078032],\n",
       "       [0.81823896, 0.18176104],\n",
       "       [0.53533926, 0.46466074],\n",
       "       [0.2462585 , 0.7537415 ],\n",
       "       [0.60717119, 0.39282881],\n",
       "       [0.34931814, 0.65068186],\n",
       "       [0.32145803, 0.67854197],\n",
       "       [0.82809168, 0.17190832],\n",
       "       [0.47453343, 0.52546657],\n",
       "       [0.09195062, 0.90804938],\n",
       "       [0.13451551, 0.86548449],\n",
       "       [0.50027909, 0.49972091],\n",
       "       [0.26370887, 0.73629113],\n",
       "       [0.17517675, 0.82482325],\n",
       "       [0.14378097, 0.85621903],\n",
       "       [0.30181528, 0.69818472],\n",
       "       [0.57006754, 0.42993246],\n",
       "       [0.51534226, 0.48465774],\n",
       "       [0.84616665, 0.15383335],\n",
       "       [0.5397865 , 0.4602135 ],\n",
       "       [0.35640266, 0.64359734],\n",
       "       [0.11159717, 0.88840283],\n",
       "       [0.52320516, 0.47679484],\n",
       "       [0.54073666, 0.45926334],\n",
       "       [0.34925638, 0.65074362],\n",
       "       [0.85572191, 0.14427809],\n",
       "       [0.41962189, 0.58037811],\n",
       "       [0.77825401, 0.22174599],\n",
       "       [0.85238329, 0.14761671],\n",
       "       [0.835585  , 0.164415  ],\n",
       "       [0.82978812, 0.17021188],\n",
       "       [0.847836  , 0.152164  ],\n",
       "       [0.44037795, 0.55962205],\n",
       "       [0.4992389 , 0.5007611 ],\n",
       "       [0.77431283, 0.22568717],\n",
       "       [0.19811203, 0.80188797],\n",
       "       [0.87119201, 0.12880799],\n",
       "       [0.17709886, 0.82290114],\n",
       "       [0.13247827, 0.86752173],\n",
       "       [0.82102705, 0.17897295],\n",
       "       [0.33629587, 0.66370413],\n",
       "       [0.50940059, 0.49059941],\n",
       "       [0.88420754, 0.11579246]])"
      ]
     },
     "execution_count": 39,
     "metadata": {},
     "output_type": "execute_result"
    }
   ],
   "source": [
    "pred_prob = logreg.predict_proba(bpa_test_x)\n",
    "pred_prob"
   ]
  },
  {
   "cell_type": "code",
   "execution_count": 40,
   "id": "a08f3060",
   "metadata": {},
   "outputs": [
    {
     "data": {
      "text/plain": [
       "array([0, 0, 1, 0, 1, 0, 1, 0, 0, 1, 1, 1, 1, 0, 1, 1, 0, 0, 0, 0, 1, 0,\n",
       "       0, 1, 1, 1, 1, 0, 1, 1, 1, 1, 0, 0, 1, 1, 0, 1, 0, 0, 0, 0, 1, 0,\n",
       "       0, 1, 0, 1, 0, 1, 1, 1, 1, 0, 1, 0, 0, 0, 0, 1, 1, 1, 1, 1, 0, 0,\n",
       "       1, 0, 0, 1, 1, 0, 0, 1, 1, 0, 1, 1, 1, 0, 0, 0, 1, 1, 1, 0, 1, 0,\n",
       "       0, 1, 0, 1, 1, 0, 1, 1, 1, 1, 0, 0, 1, 0, 0, 1, 1, 1, 1, 1, 0, 0,\n",
       "       1, 0, 1, 1, 0, 0, 0, 0, 0, 0, 1, 1, 0, 1, 1, 0, 1, 0, 1, 1, 0, 0,\n",
       "       0, 1, 1, 0, 1, 0, 1, 0, 1, 0, 0, 1, 1, 0, 1, 0, 0, 1, 0, 1, 0, 0,\n",
       "       0, 0, 1, 0, 1, 0, 1, 0, 0, 0, 1, 1, 1, 1, 0, 1, 1, 0, 1, 1, 1, 1,\n",
       "       0, 0, 1, 1, 1, 0, 1, 1, 1, 1, 0, 1, 1, 1, 1, 1, 0, 1, 1, 0, 0, 0,\n",
       "       0, 1, 0, 0, 1, 1, 1, 0, 0, 1, 1, 1, 0, 1, 1, 1, 0, 1, 0, 0, 1, 1,\n",
       "       0, 0, 1, 1, 0, 1, 0, 0, 0, 0, 0, 0, 1, 0, 1, 1, 1, 0, 1, 1, 0, 0,\n",
       "       1, 1, 1, 0, 0, 0, 0, 1, 0, 0, 0, 0, 1, 0, 0, 0, 1, 0, 1, 1, 0, 0,\n",
       "       1, 1, 0, 0, 0, 1, 0, 1, 0, 1, 0, 1, 1, 1, 0, 1, 0, 1, 0, 1, 1, 1,\n",
       "       0, 1, 1, 0, 0, 1, 0, 0, 1, 1, 1, 1, 0, 1, 1, 1, 0, 1, 0, 1, 0, 1,\n",
       "       0, 0, 0, 0, 0, 1, 0, 0, 1, 1, 1, 0, 0, 1, 1, 1, 0, 1, 1, 1, 0, 0,\n",
       "       0, 0, 0, 1, 1, 1, 0, 0, 0, 0, 0, 0, 0, 0, 1, 0, 1, 1, 0, 0, 0, 1,\n",
       "       0, 1, 0, 1, 1, 0, 0, 0, 1, 0, 1, 1, 0, 1, 1, 1, 0, 1, 1, 1, 1, 0,\n",
       "       0, 0, 0, 1, 1, 0, 0, 1, 0, 1, 0, 0, 0, 0, 0, 1, 1, 0, 1, 0, 1, 1,\n",
       "       0, 1, 0, 0], dtype=int64)"
      ]
     },
     "execution_count": 40,
     "metadata": {},
     "output_type": "execute_result"
    }
   ],
   "source": [
    "# TO have the clearity about the values compare the predicted probability values with original predicted test data set of \n",
    "\n",
    "pred_test_bpa"
   ]
  },
  {
   "cell_type": "code",
   "execution_count": 41,
   "id": "475734fa",
   "metadata": {},
   "outputs": [
    {
     "data": {
      "text/plain": [
       "(400, 2)"
      ]
     },
     "execution_count": 41,
     "metadata": {},
     "output_type": "execute_result"
    }
   ],
   "source": [
    "pred_prob.shape"
   ]
  },
  {
   "cell_type": "markdown",
   "id": "3644f25c",
   "metadata": {},
   "source": [
    "### To plot the curve and area under the curve, you have to import library following"
   ]
  },
  {
   "cell_type": "code",
   "execution_count": 42,
   "id": "92a1f461",
   "metadata": {},
   "outputs": [],
   "source": [
    "from sklearn.metrics import roc_auc_score\n",
    "from sklearn.metrics import roc_curve"
   ]
  },
  {
   "cell_type": "code",
   "execution_count": 43,
   "id": "da57ff4e",
   "metadata": {},
   "outputs": [
    {
     "data": {
      "text/plain": [
       "0.723176933289912"
      ]
     },
     "execution_count": 43,
     "metadata": {},
     "output_type": "execute_result"
    }
   ],
   "source": [
    "log_roc_auc = roc_auc_score(bpa_test_y, pred_test_bpa)\n",
    "log_roc_auc"
   ]
  },
  {
   "cell_type": "code",
   "execution_count": 44,
   "id": "a45f4498",
   "metadata": {},
   "outputs": [
    {
     "data": {
      "text/html": [
       "<div>\n",
       "<style scoped>\n",
       "    .dataframe tbody tr th:only-of-type {\n",
       "        vertical-align: middle;\n",
       "    }\n",
       "\n",
       "    .dataframe tbody tr th {\n",
       "        vertical-align: top;\n",
       "    }\n",
       "\n",
       "    .dataframe thead th {\n",
       "        text-align: right;\n",
       "    }\n",
       "</style>\n",
       "<table border=\"1\" class=\"dataframe\">\n",
       "  <thead>\n",
       "    <tr style=\"text-align: right;\">\n",
       "      <th></th>\n",
       "      <th>0</th>\n",
       "      <th>1</th>\n",
       "    </tr>\n",
       "  </thead>\n",
       "  <tbody>\n",
       "    <tr>\n",
       "      <th>0</th>\n",
       "      <td>0.844507</td>\n",
       "      <td>0.155493</td>\n",
       "    </tr>\n",
       "    <tr>\n",
       "      <th>1</th>\n",
       "      <td>0.797523</td>\n",
       "      <td>0.202477</td>\n",
       "    </tr>\n",
       "    <tr>\n",
       "      <th>2</th>\n",
       "      <td>0.089860</td>\n",
       "      <td>0.910140</td>\n",
       "    </tr>\n",
       "    <tr>\n",
       "      <th>3</th>\n",
       "      <td>0.819727</td>\n",
       "      <td>0.180273</td>\n",
       "    </tr>\n",
       "    <tr>\n",
       "      <th>4</th>\n",
       "      <td>0.474120</td>\n",
       "      <td>0.525880</td>\n",
       "    </tr>\n",
       "    <tr>\n",
       "      <th>5</th>\n",
       "      <td>0.792422</td>\n",
       "      <td>0.207578</td>\n",
       "    </tr>\n",
       "    <tr>\n",
       "      <th>6</th>\n",
       "      <td>0.146317</td>\n",
       "      <td>0.853683</td>\n",
       "    </tr>\n",
       "    <tr>\n",
       "      <th>7</th>\n",
       "      <td>0.786639</td>\n",
       "      <td>0.213361</td>\n",
       "    </tr>\n",
       "    <tr>\n",
       "      <th>8</th>\n",
       "      <td>0.763077</td>\n",
       "      <td>0.236923</td>\n",
       "    </tr>\n",
       "    <tr>\n",
       "      <th>9</th>\n",
       "      <td>0.415358</td>\n",
       "      <td>0.584642</td>\n",
       "    </tr>\n",
       "  </tbody>\n",
       "</table>\n",
       "</div>"
      ],
      "text/plain": [
       "          0         1\n",
       "0  0.844507  0.155493\n",
       "1  0.797523  0.202477\n",
       "2  0.089860  0.910140\n",
       "3  0.819727  0.180273\n",
       "4  0.474120  0.525880\n",
       "5  0.792422  0.207578\n",
       "6  0.146317  0.853683\n",
       "7  0.786639  0.213361\n",
       "8  0.763077  0.236923\n",
       "9  0.415358  0.584642"
      ]
     },
     "execution_count": 44,
     "metadata": {},
     "output_type": "execute_result"
    }
   ],
   "source": [
    "pred_value_prob = pd.DataFrame(pred_prob)\n",
    "pred_value_prob.head(10)"
   ]
  },
  {
   "cell_type": "code",
   "execution_count": 45,
   "id": "2df60b9c",
   "metadata": {},
   "outputs": [],
   "source": [
    "pred_value_prob = pred_value_prob.iloc[:, 1]"
   ]
  },
  {
   "cell_type": "code",
   "execution_count": 47,
   "id": "ac50058c",
   "metadata": {},
   "outputs": [],
   "source": [
    "fpr , tpr , threshold = roc_curve(bpa_test_y, pred_value_prob)"
   ]
  },
  {
   "cell_type": "code",
   "execution_count": 50,
   "id": "ffdcdae0",
   "metadata": {},
   "outputs": [
    {
     "data": {
      "text/plain": [
       "Text(0.5, 0.5, 'AUROC VALUE IS .25')"
      ]
     },
     "execution_count": 50,
     "metadata": {},
     "output_type": "execute_result"
    },
    {
     "data": {
      "image/png": "[encoded data removed]",
      "text/plain": [
       "<Figure size 432x288 with 1 Axes>"
      ]
     },
     "metadata": {
      "needs_background": "light"
     },
     "output_type": "display_data"
    }
   ],
   "source": [
    "plt.plot(fpr, tpr )\n",
    "plt.xlabel('FPR')\n",
    "plt.ylabel('TPR')\n",
    "plt.title(\"AUROC CURVE\")\n",
    "plt.text(x = .5 , y =.5 , s = \"AUROC VALUE IS .25\")"
   ]
  },
  {
   "cell_type": "markdown",
   "id": "5bbac6d9",
   "metadata": {},
   "source": [
    "# Decision Tree"
   ]
  },
  {
   "cell_type": "code",
   "execution_count": 51,
   "id": "3bd47ab2",
   "metadata": {},
   "outputs": [],
   "source": [
    "# import library to run decision tree calssifier\n",
    "\n",
    "from sklearn.tree import DecisionTreeClassifier\n",
    "dt = DecisionTreeClassifier(max_depth= 4, min_samples_split= 50)"
   ]
  },
  {
   "cell_type": "markdown",
   "id": "1b9decc2",
   "metadata": {},
   "source": [
    "#### Your model is built. Now run your model over train data of x and y"
   ]
  },
  {
   "cell_type": "code",
   "execution_count": 53,
   "id": "67e56b5c",
   "metadata": {},
   "outputs": [
    {
     "data": {
      "text/plain": [
       "DecisionTreeClassifier(max_depth=4, min_samples_split=50)"
      ]
     },
     "execution_count": 53,
     "metadata": {},
     "output_type": "execute_result"
    }
   ],
   "source": [
    "dt.fit(bpa_train_x, bpa_train_y)"
   ]
  },
  {
   "cell_type": "markdown",
   "id": "01614f21",
   "metadata": {},
   "source": [
    "#### Now, make some prediction over test data of x"
   ]
  },
  {
   "cell_type": "code",
   "execution_count": 54,
   "id": "4f7bc1ba",
   "metadata": {},
   "outputs": [
    {
     "data": {
      "text/plain": [
       "array([0, 1, 1, 0, 0, 0, 0, 0, 0, 0, 1, 0, 0, 0, 0, 1, 0, 0, 0, 0, 0, 0,\n",
       "       0, 1, 0, 0, 1, 0, 1, 1, 1, 1, 0, 1, 1, 0, 0, 1, 0, 0, 1, 0, 1, 0,\n",
       "       0, 1, 0, 0, 0, 1, 1, 1, 1, 0, 1, 0, 0, 1, 1, 0, 1, 0, 1, 0, 1, 1,\n",
       "       1, 0, 0, 1, 1, 1, 0, 1, 1, 0, 1, 1, 1, 0, 0, 0, 1, 0, 0, 0, 1, 0,\n",
       "       0, 0, 0, 0, 0, 0, 0, 0, 0, 1, 0, 0, 1, 1, 0, 0, 0, 1, 1, 1, 0, 0,\n",
       "       1, 0, 1, 0, 0, 0, 0, 0, 0, 1, 1, 1, 0, 1, 0, 0, 0, 1, 1, 0, 0, 0,\n",
       "       0, 1, 0, 0, 1, 0, 0, 0, 0, 0, 0, 1, 0, 0, 1, 0, 0, 1, 0, 1, 0, 1,\n",
       "       0, 0, 0, 0, 1, 0, 1, 0, 1, 0, 0, 0, 0, 0, 0, 1, 1, 1, 1, 1, 1, 1,\n",
       "       0, 0, 0, 0, 1, 1, 0, 0, 0, 0, 1, 0, 0, 1, 0, 1, 0, 0, 1, 1, 0, 0,\n",
       "       0, 1, 0, 1, 1, 1, 0, 0, 0, 1, 1, 0, 0, 1, 1, 1, 0, 1, 0, 0, 0, 1,\n",
       "       0, 1, 1, 0, 1, 0, 0, 0, 0, 1, 0, 0, 0, 0, 1, 1, 0, 0, 0, 1, 0, 0,\n",
       "       1, 1, 1, 0, 0, 0, 0, 1, 0, 0, 0, 0, 0, 0, 0, 1, 0, 0, 1, 1, 0, 0,\n",
       "       1, 1, 1, 0, 1, 0, 0, 1, 0, 0, 0, 1, 1, 0, 1, 1, 0, 0, 0, 1, 1, 0,\n",
       "       0, 0, 0, 0, 0, 0, 0, 0, 1, 0, 0, 0, 0, 1, 0, 1, 1, 0, 0, 0, 0, 1,\n",
       "       0, 0, 0, 0, 0, 1, 1, 0, 1, 0, 1, 0, 0, 1, 0, 0, 0, 0, 1, 0, 0, 0,\n",
       "       0, 0, 0, 1, 1, 1, 0, 0, 0, 0, 0, 0, 1, 0, 0, 0, 0, 0, 0, 1, 0, 0,\n",
       "       0, 1, 0, 1, 0, 1, 0, 0, 0, 0, 1, 1, 0, 0, 1, 1, 1, 1, 1, 0, 0, 0,\n",
       "       1, 0, 0, 0, 1, 0, 1, 1, 0, 1, 0, 0, 0, 0, 0, 1, 1, 0, 0, 0, 1, 1,\n",
       "       0, 1, 0, 0], dtype=int64)"
      ]
     },
     "execution_count": 54,
     "metadata": {},
     "output_type": "execute_result"
    }
   ],
   "source": [
    "pred_dt = dt.predict(bpa_test_x)\n",
    "pred_dt            # cross verify it with original data manually"
   ]
  },
  {
   "cell_type": "code",
   "execution_count": 55,
   "id": "bbade155",
   "metadata": {},
   "outputs": [
    {
     "data": {
      "text/plain": [
       "array([[192,  60],\n",
       "       [ 17, 131]], dtype=int64)"
      ]
     },
     "execution_count": 55,
     "metadata": {},
     "output_type": "execute_result"
    }
   ],
   "source": [
    "# Find out the confusion matrix over test data of y and predicted data \n",
    "\n",
    "tab_dt = confusion_matrix(pred_dt, bpa_test_y)\n",
    "tab_dt"
   ]
  },
  {
   "cell_type": "markdown",
   "id": "a0ba6f30",
   "metadata": {},
   "source": [
    "#### Now, find out the accuracy for the above matrix"
   ]
  },
  {
   "cell_type": "code",
   "execution_count": 56,
   "id": "6e30c39c",
   "metadata": {},
   "outputs": [
    {
     "data": {
      "text/plain": [
       "0.8075"
      ]
     },
     "execution_count": 56,
     "metadata": {},
     "output_type": "execute_result"
    }
   ],
   "source": [
    "# Here is the accuracy of the model \n",
    "\n",
    "Acc = tab_dt.diagonal().sum() / tab_dt.sum()\n",
    "Acc"
   ]
  },
  {
   "cell_type": "markdown",
   "id": "788cba66",
   "metadata": {},
   "source": [
    "#### here is the one important feature that 'Decision tree' has"
   ]
  },
  {
   "cell_type": "code",
   "execution_count": 57,
   "id": "c0397a24",
   "metadata": {},
   "outputs": [
    {
     "data": {
      "text/plain": [
       "array([0.27912592, 0.36900427, 0.00803239, 0.        , 0.        ,\n",
       "       0.34283695, 0.00100047])"
      ]
     },
     "execution_count": 57,
     "metadata": {},
     "output_type": "execute_result"
    }
   ],
   "source": [
    "dt.feature_importances_"
   ]
  },
  {
   "cell_type": "code",
   "execution_count": 59,
   "id": "f4300cf7",
   "metadata": {},
   "outputs": [
    {
     "data": {
      "text/plain": [
       "Index(['Level_of_Hemoglobin', 'Genetic_Pedigree_Coefficient', 'Age',\n",
       "       'Pregnancy', 'alcohol_consumption_per_day', 'Chronic_kidney_disease',\n",
       "       'Adrenal_and_thyroid_disorders'],\n",
       "      dtype='object')"
      ]
     },
     "execution_count": 59,
     "metadata": {},
     "output_type": "execute_result"
    }
   ],
   "source": [
    "bpa_test_x.columns"
   ]
  },
  {
   "cell_type": "code",
   "execution_count": 60,
   "id": "1b6b4a43",
   "metadata": {},
   "outputs": [
    {
     "data": {
      "text/plain": [
       "1.0"
      ]
     },
     "execution_count": 60,
     "metadata": {},
     "output_type": "execute_result"
    }
   ],
   "source": [
    "dt.feature_importances_.sum()"
   ]
  },
  {
   "cell_type": "code",
   "execution_count": 61,
   "id": "43f2472c",
   "metadata": {},
   "outputs": [
    {
     "data": {
      "text/plain": [
       "7"
      ]
     },
     "execution_count": 61,
     "metadata": {},
     "output_type": "execute_result"
    }
   ],
   "source": [
    "len(dt.feature_importances_)"
   ]
  },
  {
   "cell_type": "code",
   "execution_count": 62,
   "id": "63a90745",
   "metadata": {},
   "outputs": [
    {
     "data": {
      "text/plain": [
       "(400, 7)"
      ]
     },
     "execution_count": 62,
     "metadata": {},
     "output_type": "execute_result"
    }
   ],
   "source": [
    "bpa_test_x.shape"
   ]
  },
  {
   "cell_type": "code",
   "execution_count": 64,
   "id": "8035d044",
   "metadata": {},
   "outputs": [
    {
     "data": {
      "text/html": [
       "<div>\n",
       "<style scoped>\n",
       "    .dataframe tbody tr th:only-of-type {\n",
       "        vertical-align: middle;\n",
       "    }\n",
       "\n",
       "    .dataframe tbody tr th {\n",
       "        vertical-align: top;\n",
       "    }\n",
       "\n",
       "    .dataframe thead th {\n",
       "        text-align: right;\n",
       "    }\n",
       "</style>\n",
       "<table border=\"1\" class=\"dataframe\">\n",
       "  <thead>\n",
       "    <tr style=\"text-align: right;\">\n",
       "      <th></th>\n",
       "      <th>Feature Names</th>\n",
       "      <th>Importance</th>\n",
       "    </tr>\n",
       "  </thead>\n",
       "  <tbody>\n",
       "    <tr>\n",
       "      <th>0</th>\n",
       "      <td>Level_of_Hemoglobin</td>\n",
       "      <td>0.279126</td>\n",
       "    </tr>\n",
       "    <tr>\n",
       "      <th>1</th>\n",
       "      <td>Genetic_Pedigree_Coefficient</td>\n",
       "      <td>0.369004</td>\n",
       "    </tr>\n",
       "    <tr>\n",
       "      <th>2</th>\n",
       "      <td>Age</td>\n",
       "      <td>0.008032</td>\n",
       "    </tr>\n",
       "    <tr>\n",
       "      <th>3</th>\n",
       "      <td>Pregnancy</td>\n",
       "      <td>0.000000</td>\n",
       "    </tr>\n",
       "    <tr>\n",
       "      <th>4</th>\n",
       "      <td>alcohol_consumption_per_day</td>\n",
       "      <td>0.000000</td>\n",
       "    </tr>\n",
       "    <tr>\n",
       "      <th>5</th>\n",
       "      <td>Chronic_kidney_disease</td>\n",
       "      <td>0.342837</td>\n",
       "    </tr>\n",
       "    <tr>\n",
       "      <th>6</th>\n",
       "      <td>Adrenal_and_thyroid_disorders</td>\n",
       "      <td>0.001000</td>\n",
       "    </tr>\n",
       "  </tbody>\n",
       "</table>\n",
       "</div>"
      ],
      "text/plain": [
       "                   Feature Names  Importance\n",
       "0            Level_of_Hemoglobin    0.279126\n",
       "1   Genetic_Pedigree_Coefficient    0.369004\n",
       "2                            Age    0.008032\n",
       "3                      Pregnancy    0.000000\n",
       "4    alcohol_consumption_per_day    0.000000\n",
       "5         Chronic_kidney_disease    0.342837\n",
       "6  Adrenal_and_thyroid_disorders    0.001000"
      ]
     },
     "execution_count": 64,
     "metadata": {},
     "output_type": "execute_result"
    }
   ],
   "source": [
    "feature_importance = pd.DataFrame({\"Feature Names\" : bpa_test_x.columns , \"Importance\" : dt.feature_importances_})\n",
    "feature_importance"
   ]
  },
  {
   "cell_type": "code",
   "execution_count": 65,
   "id": "8238a66a",
   "metadata": {},
   "outputs": [
    {
     "data": {
      "text/html": [
       "<div>\n",
       "<style scoped>\n",
       "    .dataframe tbody tr th:only-of-type {\n",
       "        vertical-align: middle;\n",
       "    }\n",
       "\n",
       "    .dataframe tbody tr th {\n",
       "        vertical-align: top;\n",
       "    }\n",
       "\n",
       "    .dataframe thead th {\n",
       "        text-align: right;\n",
       "    }\n",
       "</style>\n",
       "<table border=\"1\" class=\"dataframe\">\n",
       "  <thead>\n",
       "    <tr style=\"text-align: right;\">\n",
       "      <th></th>\n",
       "      <th>Feature Names</th>\n",
       "      <th>Importance</th>\n",
       "    </tr>\n",
       "  </thead>\n",
       "  <tbody>\n",
       "    <tr>\n",
       "      <th>1</th>\n",
       "      <td>Genetic_Pedigree_Coefficient</td>\n",
       "      <td>0.369004</td>\n",
       "    </tr>\n",
       "    <tr>\n",
       "      <th>5</th>\n",
       "      <td>Chronic_kidney_disease</td>\n",
       "      <td>0.342837</td>\n",
       "    </tr>\n",
       "    <tr>\n",
       "      <th>0</th>\n",
       "      <td>Level_of_Hemoglobin</td>\n",
       "      <td>0.279126</td>\n",
       "    </tr>\n",
       "    <tr>\n",
       "      <th>2</th>\n",
       "      <td>Age</td>\n",
       "      <td>0.008032</td>\n",
       "    </tr>\n",
       "    <tr>\n",
       "      <th>6</th>\n",
       "      <td>Adrenal_and_thyroid_disorders</td>\n",
       "      <td>0.001000</td>\n",
       "    </tr>\n",
       "    <tr>\n",
       "      <th>3</th>\n",
       "      <td>Pregnancy</td>\n",
       "      <td>0.000000</td>\n",
       "    </tr>\n",
       "    <tr>\n",
       "      <th>4</th>\n",
       "      <td>alcohol_consumption_per_day</td>\n",
       "      <td>0.000000</td>\n",
       "    </tr>\n",
       "  </tbody>\n",
       "</table>\n",
       "</div>"
      ],
      "text/plain": [
       "                   Feature Names  Importance\n",
       "1   Genetic_Pedigree_Coefficient    0.369004\n",
       "5         Chronic_kidney_disease    0.342837\n",
       "0            Level_of_Hemoglobin    0.279126\n",
       "2                            Age    0.008032\n",
       "6  Adrenal_and_thyroid_disorders    0.001000\n",
       "3                      Pregnancy    0.000000\n",
       "4    alcohol_consumption_per_day    0.000000"
      ]
     },
     "execution_count": 65,
     "metadata": {},
     "output_type": "execute_result"
    }
   ],
   "source": [
    "feature_importance.sort_values(\"Importance\" , ascending = False)"
   ]
  },
  {
   "cell_type": "markdown",
   "id": "486b47e6",
   "metadata": {},
   "source": [
    "# Random Forest"
   ]
  },
  {
   "cell_type": "code",
   "execution_count": 66,
   "id": "71af612a",
   "metadata": {},
   "outputs": [],
   "source": [
    "from sklearn.ensemble import RandomForestClassifier\n",
    "rfc = RandomForestClassifier(n_estimators= 100 , class_weight= 'balanced')"
   ]
  },
  {
   "cell_type": "code",
   "execution_count": 67,
   "id": "255b8d2f",
   "metadata": {},
   "outputs": [
    {
     "data": {
      "text/plain": [
       "RandomForestClassifier(class_weight='balanced')"
      ]
     },
     "execution_count": 67,
     "metadata": {},
     "output_type": "execute_result"
    }
   ],
   "source": [
    "rfc.fit(bpa_train_x, bpa_train_y)"
   ]
  },
  {
   "cell_type": "code",
   "execution_count": 68,
   "id": "48d9063a",
   "metadata": {},
   "outputs": [
    {
     "data": {
      "text/plain": [
       "array([0, 0, 1, 0, 0, 0, 1, 0, 0, 0, 1, 1, 1, 0, 0, 1, 0, 0, 0, 1, 0, 0,\n",
       "       0, 1, 1, 0, 1, 0, 1, 1, 1, 1, 0, 1, 1, 0, 0, 1, 0, 0, 1, 0, 1, 0,\n",
       "       0, 1, 0, 0, 0, 1, 1, 1, 1, 0, 1, 0, 0, 0, 1, 1, 1, 1, 1, 0, 1, 1,\n",
       "       1, 0, 0, 1, 1, 1, 0, 1, 1, 0, 1, 1, 1, 0, 0, 0, 1, 0, 1, 0, 1, 0,\n",
       "       0, 1, 0, 0, 0, 0, 0, 0, 0, 1, 1, 0, 1, 1, 0, 0, 0, 1, 1, 1, 1, 0,\n",
       "       1, 0, 1, 1, 0, 0, 0, 0, 1, 1, 1, 1, 0, 1, 1, 0, 0, 1, 1, 0, 0, 0,\n",
       "       0, 1, 0, 0, 1, 0, 1, 0, 0, 0, 0, 1, 1, 0, 1, 0, 0, 1, 0, 1, 0, 0,\n",
       "       0, 0, 0, 0, 1, 0, 1, 0, 1, 0, 1, 1, 0, 1, 0, 1, 1, 1, 1, 1, 1, 1,\n",
       "       0, 0, 0, 0, 1, 1, 1, 0, 0, 0, 1, 0, 0, 1, 1, 1, 0, 1, 0, 1, 0, 0,\n",
       "       0, 1, 0, 1, 1, 1, 0, 0, 0, 0, 1, 1, 0, 1, 1, 1, 0, 1, 0, 0, 0, 1,\n",
       "       0, 1, 1, 0, 1, 0, 0, 0, 1, 0, 0, 0, 0, 0, 1, 1, 0, 0, 0, 1, 0, 0,\n",
       "       1, 1, 1, 0, 1, 0, 0, 1, 0, 0, 0, 0, 0, 0, 0, 1, 0, 1, 1, 1, 0, 0,\n",
       "       1, 1, 1, 0, 1, 1, 0, 1, 0, 0, 0, 1, 1, 0, 1, 1, 0, 0, 0, 1, 1, 0,\n",
       "       0, 0, 0, 0, 0, 0, 0, 0, 1, 0, 0, 1, 0, 1, 0, 1, 1, 0, 0, 0, 0, 1,\n",
       "       0, 0, 0, 0, 0, 1, 0, 0, 1, 0, 1, 1, 0, 1, 0, 0, 0, 0, 1, 0, 0, 0,\n",
       "       0, 0, 0, 1, 1, 1, 1, 0, 0, 0, 0, 0, 1, 0, 1, 0, 0, 1, 0, 1, 0, 1,\n",
       "       0, 1, 0, 1, 1, 1, 0, 1, 1, 0, 1, 1, 0, 0, 1, 1, 1, 1, 1, 1, 1, 0,\n",
       "       1, 0, 0, 0, 1, 1, 1, 0, 1, 1, 0, 0, 0, 0, 0, 1, 1, 0, 1, 0, 1, 1,\n",
       "       0, 1, 0, 0], dtype=int64)"
      ]
     },
     "execution_count": 68,
     "metadata": {},
     "output_type": "execute_result"
    }
   ],
   "source": [
    "# predict for the test data of x \n",
    "\n",
    "pred_rfc = rfc.predict(bpa_test_x)\n",
    "pred_rfc"
   ]
  },
  {
   "cell_type": "code",
   "execution_count": 69,
   "id": "de6ff9fb",
   "metadata": {},
   "outputs": [
    {
     "data": {
      "text/plain": [
       "array([[191,  28],\n",
       "       [ 18, 163]], dtype=int64)"
      ]
     },
     "execution_count": 69,
     "metadata": {},
     "output_type": "execute_result"
    }
   ],
   "source": [
    "# to check out the confusion matrix\n",
    "\n",
    "tab_rfc = confusion_matrix(pred_rfc, bpa_test_y)\n",
    "tab_rfc"
   ]
  },
  {
   "cell_type": "code",
   "execution_count": 70,
   "id": "d2c208ae",
   "metadata": {},
   "outputs": [
    {
     "data": {
      "text/plain": [
       "0.885"
      ]
     },
     "execution_count": 70,
     "metadata": {},
     "output_type": "execute_result"
    }
   ],
   "source": [
    "# Accuracy for the RF\n",
    "Acc = tab_rfc.diagonal().sum() / tab_rfc.sum()\n",
    "Acc"
   ]
  },
  {
   "cell_type": "markdown",
   "id": "b1a3ff9f",
   "metadata": {},
   "source": [
    "#### We have to add one important feature i.e. feature importances"
   ]
  },
  {
   "cell_type": "code",
   "execution_count": 71,
   "id": "24b94082",
   "metadata": {},
   "outputs": [
    {
     "data": {
      "text/plain": [
       "array([0.30336155, 0.32220149, 0.08696924, 0.00737606, 0.09050449,\n",
       "       0.13248966, 0.05709752])"
      ]
     },
     "execution_count": 71,
     "metadata": {},
     "output_type": "execute_result"
    }
   ],
   "source": [
    "rfc.feature_importances_"
   ]
  },
  {
   "cell_type": "code",
   "execution_count": 72,
   "id": "64ff6b66",
   "metadata": {},
   "outputs": [
    {
     "data": {
      "text/plain": [
       "Index(['Level_of_Hemoglobin', 'Genetic_Pedigree_Coefficient', 'Age',\n",
       "       'Pregnancy', 'alcohol_consumption_per_day', 'Chronic_kidney_disease',\n",
       "       'Adrenal_and_thyroid_disorders'],\n",
       "      dtype='object')"
      ]
     },
     "execution_count": 72,
     "metadata": {},
     "output_type": "execute_result"
    }
   ],
   "source": [
    "bpa_test_x.columns"
   ]
  },
  {
   "cell_type": "code",
   "execution_count": 73,
   "id": "1eb310eb",
   "metadata": {},
   "outputs": [
    {
     "data": {
      "text/html": [
       "<div>\n",
       "<style scoped>\n",
       "    .dataframe tbody tr th:only-of-type {\n",
       "        vertical-align: middle;\n",
       "    }\n",
       "\n",
       "    .dataframe tbody tr th {\n",
       "        vertical-align: top;\n",
       "    }\n",
       "\n",
       "    .dataframe thead th {\n",
       "        text-align: right;\n",
       "    }\n",
       "</style>\n",
       "<table border=\"1\" class=\"dataframe\">\n",
       "  <thead>\n",
       "    <tr style=\"text-align: right;\">\n",
       "      <th></th>\n",
       "      <th>Feature Importance</th>\n",
       "      <th>Importance</th>\n",
       "    </tr>\n",
       "  </thead>\n",
       "  <tbody>\n",
       "    <tr>\n",
       "      <th>0</th>\n",
       "      <td>Level_of_Hemoglobin</td>\n",
       "      <td>0.303362</td>\n",
       "    </tr>\n",
       "    <tr>\n",
       "      <th>1</th>\n",
       "      <td>Genetic_Pedigree_Coefficient</td>\n",
       "      <td>0.322201</td>\n",
       "    </tr>\n",
       "    <tr>\n",
       "      <th>2</th>\n",
       "      <td>Age</td>\n",
       "      <td>0.086969</td>\n",
       "    </tr>\n",
       "    <tr>\n",
       "      <th>3</th>\n",
       "      <td>Pregnancy</td>\n",
       "      <td>0.007376</td>\n",
       "    </tr>\n",
       "    <tr>\n",
       "      <th>4</th>\n",
       "      <td>alcohol_consumption_per_day</td>\n",
       "      <td>0.090504</td>\n",
       "    </tr>\n",
       "    <tr>\n",
       "      <th>5</th>\n",
       "      <td>Chronic_kidney_disease</td>\n",
       "      <td>0.132490</td>\n",
       "    </tr>\n",
       "    <tr>\n",
       "      <th>6</th>\n",
       "      <td>Adrenal_and_thyroid_disorders</td>\n",
       "      <td>0.057098</td>\n",
       "    </tr>\n",
       "  </tbody>\n",
       "</table>\n",
       "</div>"
      ],
      "text/plain": [
       "              Feature Importance  Importance\n",
       "0            Level_of_Hemoglobin    0.303362\n",
       "1   Genetic_Pedigree_Coefficient    0.322201\n",
       "2                            Age    0.086969\n",
       "3                      Pregnancy    0.007376\n",
       "4    alcohol_consumption_per_day    0.090504\n",
       "5         Chronic_kidney_disease    0.132490\n",
       "6  Adrenal_and_thyroid_disorders    0.057098"
      ]
     },
     "execution_count": 73,
     "metadata": {},
     "output_type": "execute_result"
    }
   ],
   "source": [
    "rfc_feature_importance = pd.DataFrame({\"Feature Importance\" :bpa_test_x.columns, \"Importance\" : rfc.feature_importances_ })\n",
    "rfc_feature_importance"
   ]
  },
  {
   "cell_type": "markdown",
   "id": "8b80bdc5",
   "metadata": {},
   "source": [
    "#### Sort the above values from this"
   ]
  },
  {
   "cell_type": "code",
   "execution_count": 75,
   "id": "20bde773",
   "metadata": {},
   "outputs": [
    {
     "data": {
      "text/html": [
       "<div>\n",
       "<style scoped>\n",
       "    .dataframe tbody tr th:only-of-type {\n",
       "        vertical-align: middle;\n",
       "    }\n",
       "\n",
       "    .dataframe tbody tr th {\n",
       "        vertical-align: top;\n",
       "    }\n",
       "\n",
       "    .dataframe thead th {\n",
       "        text-align: right;\n",
       "    }\n",
       "</style>\n",
       "<table border=\"1\" class=\"dataframe\">\n",
       "  <thead>\n",
       "    <tr style=\"text-align: right;\">\n",
       "      <th></th>\n",
       "      <th>Feature Importance</th>\n",
       "      <th>Importance</th>\n",
       "    </tr>\n",
       "  </thead>\n",
       "  <tbody>\n",
       "    <tr>\n",
       "      <th>1</th>\n",
       "      <td>Genetic_Pedigree_Coefficient</td>\n",
       "      <td>0.322201</td>\n",
       "    </tr>\n",
       "    <tr>\n",
       "      <th>0</th>\n",
       "      <td>Level_of_Hemoglobin</td>\n",
       "      <td>0.303362</td>\n",
       "    </tr>\n",
       "    <tr>\n",
       "      <th>5</th>\n",
       "      <td>Chronic_kidney_disease</td>\n",
       "      <td>0.132490</td>\n",
       "    </tr>\n",
       "    <tr>\n",
       "      <th>4</th>\n",
       "      <td>alcohol_consumption_per_day</td>\n",
       "      <td>0.090504</td>\n",
       "    </tr>\n",
       "    <tr>\n",
       "      <th>2</th>\n",
       "      <td>Age</td>\n",
       "      <td>0.086969</td>\n",
       "    </tr>\n",
       "    <tr>\n",
       "      <th>6</th>\n",
       "      <td>Adrenal_and_thyroid_disorders</td>\n",
       "      <td>0.057098</td>\n",
       "    </tr>\n",
       "    <tr>\n",
       "      <th>3</th>\n",
       "      <td>Pregnancy</td>\n",
       "      <td>0.007376</td>\n",
       "    </tr>\n",
       "  </tbody>\n",
       "</table>\n",
       "</div>"
      ],
      "text/plain": [
       "              Feature Importance  Importance\n",
       "1   Genetic_Pedigree_Coefficient    0.322201\n",
       "0            Level_of_Hemoglobin    0.303362\n",
       "5         Chronic_kidney_disease    0.132490\n",
       "4    alcohol_consumption_per_day    0.090504\n",
       "2                            Age    0.086969\n",
       "6  Adrenal_and_thyroid_disorders    0.057098\n",
       "3                      Pregnancy    0.007376"
      ]
     },
     "execution_count": 75,
     "metadata": {},
     "output_type": "execute_result"
    }
   ],
   "source": [
    "rfc_feature_importance.sort_values(\"Importance\" , ascending = False)"
   ]
  },
  {
   "cell_type": "markdown",
   "id": "cf38e0ec",
   "metadata": {},
   "source": [
    "#  Ada Boosting"
   ]
  },
  {
   "cell_type": "code",
   "execution_count": 76,
   "id": "72fec5f1",
   "metadata": {},
   "outputs": [],
   "source": [
    "# Import the AdaBoostClassifir and Decision tree classifier, because it is working over 'Decision tree'\n",
    "# AdaBoostclassifier is works on Decision Tree.\n",
    "\n",
    "from sklearn.ensemble import AdaBoostClassifier\n",
    "\n",
    "from sklearn.tree import DecisionTreeClassifier"
   ]
  },
  {
   "cell_type": "code",
   "execution_count": 77,
   "id": "8f90e5bd",
   "metadata": {},
   "outputs": [
    {
     "name": "stderr",
     "output_type": "stream",
     "text": [
      "C:\\Users\\Pravin\\anaconda3\\lib\\site-packages\\sklearn\\utils\\validation.py:70: FutureWarning: Pass n_estimators=10 as keyword args. From version 1.0 (renaming of 0.25) passing these as positional arguments will result in an error\n",
      "  warnings.warn(f\"Pass {args_msg} as keyword args. From version \"\n"
     ]
    }
   ],
   "source": [
    "# Define decision tree \n",
    "\n",
    "dt = DecisionTreeClassifier()\n",
    "\n",
    "abc = AdaBoostClassifier(dt, 10)"
   ]
  },
  {
   "cell_type": "code",
   "execution_count": 78,
   "id": "121ed63a",
   "metadata": {},
   "outputs": [
    {
     "data": {
      "text/plain": [
       "AdaBoostClassifier(base_estimator=DecisionTreeClassifier(), n_estimators=10)"
      ]
     },
     "execution_count": 78,
     "metadata": {},
     "output_type": "execute_result"
    }
   ],
   "source": [
    "abc.fit(bpa_train_x, bpa_train_y)"
   ]
  },
  {
   "cell_type": "code",
   "execution_count": 79,
   "id": "0c5bc443",
   "metadata": {},
   "outputs": [
    {
     "data": {
      "text/plain": [
       "array([0, 0, 1, 0, 1, 0, 1, 0, 0, 0, 0, 1, 1, 0, 0, 0, 0, 0, 0, 1, 0, 0,\n",
       "       0, 1, 0, 0, 1, 0, 1, 1, 1, 1, 0, 1, 1, 0, 0, 1, 0, 0, 1, 0, 1, 0,\n",
       "       0, 0, 0, 1, 0, 1, 1, 1, 1, 0, 1, 0, 0, 0, 1, 1, 0, 1, 1, 0, 1, 1,\n",
       "       1, 0, 1, 1, 1, 1, 0, 1, 1, 0, 1, 1, 1, 0, 0, 0, 1, 0, 1, 0, 1, 0,\n",
       "       0, 1, 0, 0, 0, 0, 0, 0, 0, 1, 1, 0, 1, 1, 0, 1, 0, 1, 1, 1, 1, 0,\n",
       "       1, 0, 1, 1, 0, 0, 0, 0, 1, 1, 1, 1, 0, 1, 0, 0, 1, 1, 1, 0, 0, 0,\n",
       "       0, 1, 0, 0, 1, 1, 0, 0, 0, 0, 0, 1, 1, 0, 1, 0, 0, 1, 0, 1, 0, 0,\n",
       "       0, 0, 0, 0, 1, 0, 0, 0, 0, 0, 1, 1, 1, 1, 0, 1, 0, 1, 1, 1, 1, 1,\n",
       "       0, 0, 0, 1, 1, 1, 1, 0, 0, 1, 1, 0, 0, 1, 0, 1, 0, 0, 0, 1, 0, 0,\n",
       "       0, 1, 0, 1, 1, 1, 1, 0, 0, 1, 1, 1, 0, 1, 1, 1, 0, 1, 0, 0, 0, 1,\n",
       "       0, 1, 1, 0, 1, 0, 0, 0, 1, 0, 0, 0, 0, 0, 0, 1, 1, 0, 0, 1, 0, 0,\n",
       "       1, 1, 1, 0, 1, 0, 0, 0, 1, 0, 0, 0, 0, 1, 0, 1, 0, 1, 0, 1, 0, 1,\n",
       "       1, 1, 1, 0, 0, 1, 0, 1, 0, 1, 0, 1, 1, 0, 1, 1, 0, 0, 0, 1, 1, 0,\n",
       "       0, 0, 0, 0, 0, 0, 0, 0, 1, 0, 0, 1, 0, 1, 0, 1, 1, 0, 0, 0, 0, 1,\n",
       "       0, 0, 0, 0, 0, 1, 0, 0, 1, 0, 1, 1, 0, 1, 1, 0, 1, 0, 1, 0, 0, 0,\n",
       "       0, 0, 0, 0, 1, 1, 1, 0, 0, 0, 0, 0, 0, 0, 1, 0, 0, 1, 0, 1, 0, 0,\n",
       "       0, 1, 0, 1, 0, 1, 0, 0, 1, 0, 1, 0, 0, 0, 1, 1, 1, 0, 1, 1, 0, 0,\n",
       "       1, 0, 0, 0, 1, 1, 1, 1, 1, 1, 0, 0, 0, 0, 0, 1, 1, 0, 1, 0, 1, 0,\n",
       "       1, 1, 0, 0], dtype=int64)"
      ]
     },
     "execution_count": 79,
     "metadata": {},
     "output_type": "execute_result"
    }
   ],
   "source": [
    "# Predict over test data \n",
    "\n",
    "pred_abc = abc.predict(bpa_test_x)\n",
    "pred_abc"
   ]
  },
  {
   "cell_type": "code",
   "execution_count": 80,
   "id": "15f1a7ac",
   "metadata": {},
   "outputs": [],
   "source": [
    "# Build your confusion matrix"
   ]
  },
  {
   "cell_type": "code",
   "execution_count": 81,
   "id": "dd05dada",
   "metadata": {},
   "outputs": [
    {
     "data": {
      "text/plain": [
       "array([[189,  35],\n",
       "       [ 20, 156]], dtype=int64)"
      ]
     },
     "execution_count": 81,
     "metadata": {},
     "output_type": "execute_result"
    }
   ],
   "source": [
    "tab_abc = confusion_matrix(pred_abc, bpa_test_y)\n",
    "tab_abc"
   ]
  },
  {
   "cell_type": "code",
   "execution_count": 82,
   "id": "16b5e5da",
   "metadata": {},
   "outputs": [
    {
     "data": {
      "text/plain": [
       "0.8625"
      ]
     },
     "execution_count": 82,
     "metadata": {},
     "output_type": "execute_result"
    }
   ],
   "source": [
    "Acc_abc = tab_abc.diagonal().sum() / tab_abc.sum()\n",
    "Acc_abc"
   ]
  },
  {
   "cell_type": "markdown",
   "id": "426616f0",
   "metadata": {},
   "source": [
    "# Naive Bayes Classifier"
   ]
  },
  {
   "cell_type": "code",
   "execution_count": 83,
   "id": "e808c117",
   "metadata": {},
   "outputs": [],
   "source": [
    "from sklearn.naive_bayes import MultinomialNB\n",
    "nb = MultinomialNB()"
   ]
  },
  {
   "cell_type": "code",
   "execution_count": 85,
   "id": "0426a758",
   "metadata": {},
   "outputs": [
    {
     "data": {
      "text/plain": [
       "MultinomialNB()"
      ]
     },
     "execution_count": 85,
     "metadata": {},
     "output_type": "execute_result"
    }
   ],
   "source": [
    "nb.fit(bpa_train_x, bpa_train_y)"
   ]
  },
  {
   "cell_type": "code",
   "execution_count": 87,
   "id": "33adc24d",
   "metadata": {},
   "outputs": [
    {
     "data": {
      "text/plain": [
       "array([0, 0, 1, 1, 1, 1, 1, 1, 1, 0, 1, 1, 0, 0, 1, 1, 0, 0, 0, 1, 1, 0,\n",
       "       0, 1, 1, 1, 1, 0, 1, 1, 1, 1, 0, 1, 1, 1, 1, 1, 0, 1, 0, 0, 1, 0,\n",
       "       1, 1, 0, 0, 0, 1, 1, 1, 1, 0, 0, 0, 1, 0, 1, 0, 1, 1, 1, 1, 0, 0,\n",
       "       0, 0, 0, 1, 0, 0, 1, 0, 1, 0, 1, 1, 1, 0, 0, 0, 0, 0, 0, 0, 0, 1,\n",
       "       0, 0, 1, 1, 1, 0, 1, 1, 1, 0, 0, 1, 1, 0, 0, 1, 1, 0, 1, 0, 0, 1,\n",
       "       1, 0, 0, 0, 0, 0, 1, 1, 0, 0, 1, 0, 0, 1, 0, 1, 1, 0, 0, 1, 0, 0,\n",
       "       1, 1, 1, 0, 0, 0, 1, 0, 1, 1, 0, 0, 1, 0, 1, 0, 1, 0, 0, 0, 1, 0,\n",
       "       0, 1, 1, 0, 1, 0, 0, 0, 0, 1, 1, 1, 1, 0, 1, 1, 1, 0, 1, 1, 1, 1,\n",
       "       1, 1, 0, 0, 1, 0, 1, 0, 0, 1, 0, 1, 0, 1, 1, 1, 1, 0, 0, 0, 1, 0,\n",
       "       0, 1, 0, 0, 0, 1, 0, 0, 1, 0, 1, 1, 0, 1, 1, 1, 0, 1, 0, 0, 1, 0,\n",
       "       0, 0, 1, 1, 1, 1, 1, 1, 1, 0, 1, 1, 1, 0, 1, 1, 1, 0, 0, 1, 1, 1,\n",
       "       0, 0, 1, 0, 0, 0, 1, 1, 0, 0, 0, 0, 1, 0, 0, 0, 1, 0, 0, 1, 0, 1,\n",
       "       1, 0, 0, 0, 0, 1, 0, 1, 1, 0, 0, 1, 0, 1, 1, 1, 0, 1, 0, 1, 0, 1,\n",
       "       1, 1, 1, 0, 0, 0, 1, 1, 1, 0, 0, 0, 0, 0, 1, 1, 0, 0, 1, 0, 0, 1,\n",
       "       0, 0, 0, 0, 0, 1, 1, 0, 1, 0, 1, 1, 1, 0, 1, 1, 1, 1, 0, 1, 0, 0,\n",
       "       1, 0, 0, 1, 1, 0, 0, 0, 0, 0, 0, 0, 1, 1, 0, 1, 1, 1, 0, 0, 1, 1,\n",
       "       1, 1, 1, 1, 1, 0, 0, 0, 1, 0, 1, 1, 1, 1, 0, 1, 0, 1, 1, 1, 1, 0,\n",
       "       0, 0, 1, 1, 1, 0, 0, 1, 0, 1, 0, 0, 1, 1, 0, 1, 0, 0, 1, 0, 1, 1,\n",
       "       0, 1, 0, 0], dtype=int64)"
      ]
     },
     "execution_count": 87,
     "metadata": {},
     "output_type": "execute_result"
    }
   ],
   "source": [
    "pred_nb = nb.predict(bpa_test_x)\n",
    "pred_nb"
   ]
  },
  {
   "cell_type": "code",
   "execution_count": 88,
   "id": "9798a641",
   "metadata": {},
   "outputs": [
    {
     "data": {
      "text/plain": [
       "array([[120,  76],\n",
       "       [ 89, 115]], dtype=int64)"
      ]
     },
     "execution_count": 88,
     "metadata": {},
     "output_type": "execute_result"
    }
   ],
   "source": [
    "tab_nb = confusion_matrix(pred_nb, bpa_test_y)\n",
    "tab_nb"
   ]
  }
 ],
 "metadata": {
  "kernelspec": {
   "display_name": "Python 3",
   "language": "python",
   "name": "python3"
  },
  "language_info": {
   "codemirror_mode": {
    "name": "ipython",
    "version": 3
   },
   "file_extension": ".py",
   "mimetype": "text/x-python",
   "name": "python",
   "nbconvert_exporter": "python",
   "pygments_lexer": "ipython3",
   "version": "3.8.8"
  }
 },
 "nbformat": 4,
 "nbformat_minor": 5
}
